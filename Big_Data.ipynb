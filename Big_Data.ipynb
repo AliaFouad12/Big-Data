{
  "cells": [
    {
      "cell_type": "code",
      "execution_count": null,
      "metadata": {
        "colab": {
          "base_uri": "https://localhost:8080/"
        },
        "id": "DpaGkx5jnaR5",
        "outputId": "67c1fd98-1c18-4c2e-ad7d-d4800681b9a3"
      },
      "outputs": [
        {
          "name": "stdout",
          "output_type": "stream",
          "text": [
            "Requirement already satisfied: pandas in /usr/local/lib/python3.12/dist-packages (2.2.2)\n",
            "Requirement already satisfied: numpy in /usr/local/lib/python3.12/dist-packages (2.0.2)\n",
            "Collecting faker\n",
            "  Downloading faker-37.6.0-py3-none-any.whl.metadata (15 kB)\n",
            "Requirement already satisfied: pyarrow in /usr/local/lib/python3.12/dist-packages (18.1.0)\n",
            "Requirement already satisfied: python-dateutil>=2.8.2 in /usr/local/lib/python3.12/dist-packages (from pandas) (2.9.0.post0)\n",
            "Requirement already satisfied: pytz>=2020.1 in /usr/local/lib/python3.12/dist-packages (from pandas) (2025.2)\n",
            "Requirement already satisfied: tzdata>=2022.7 in /usr/local/lib/python3.12/dist-packages (from pandas) (2025.2)\n",
            "Requirement already satisfied: six>=1.5 in /usr/local/lib/python3.12/dist-packages (from python-dateutil>=2.8.2->pandas) (1.17.0)\n",
            "Downloading faker-37.6.0-py3-none-any.whl (1.9 MB)\n",
            "\u001b[2K   \u001b[90m━━━━━━━━━━━━━━━━━━━━━━━━━━━━━━━━━━━━━━━━\u001b[0m \u001b[32m1.9/1.9 MB\u001b[0m \u001b[31m23.9 MB/s\u001b[0m eta \u001b[36m0:00:00\u001b[0m\n",
            "\u001b[?25hInstalling collected packages: faker\n",
            "Successfully installed faker-37.6.0\n"
          ]
        }
      ],
      "source": [
        "pip install pandas numpy faker pyarrow\n"
      ]
    },
    {
      "cell_type": "code",
      "execution_count": null,
      "metadata": {
        "colab": {
          "base_uri": "https://localhost:8080/"
        },
        "id": "NL4IHtGOniF6",
        "outputId": "2cd4453c-6dcc-423c-ce46-22f37ce8bbc2"
      },
      "outputs": [
        {
          "name": "stdout",
          "output_type": "stream",
          "text": [
            "Requirement already satisfied: faker in /usr/local/lib/python3.12/dist-packages (37.6.0)\n",
            "Requirement already satisfied: tzdata in /usr/local/lib/python3.12/dist-packages (from faker) (2025.2)\n"
          ]
        }
      ],
      "source": [
        "%pip install faker"
      ]
    },
    {
      "cell_type": "code",
      "execution_count": null,
      "metadata": {
        "colab": {
          "base_uri": "https://localhost:8080/"
        },
        "id": "JYBcJ84xl8EL",
        "outputId": "a93241b5-9498-4a89-c9c2-d7ab9f664825"
      },
      "outputs": [
        {
          "name": "stdout",
          "output_type": "stream",
          "text": [
            "A dataset with 1000000 records has been created.\n"
          ]
        }
      ],
      "source": [
        "import pandas as pd\n",
        "import numpy as np\n",
        "from faker import Faker\n",
        "import random\n",
        "\n",
        "# Activating the Faker library\n",
        "fake = Faker()\n",
        "\n",
        "# Download data from Kaggle (after downloading the file manually or via the Kaggle API)\n",
        "df = pd.read_csv(\"cardio_train.csv\", sep=';')\n",
        "\n",
        "# Change column names to be clear\n",
        "df.rename(columns={\n",
        "    'age': 'age_days',\n",
        "    'ap_hi': 'systolic_bp',\n",
        "    'ap_lo': 'diastolic_bp',\n",
        "    'cholesterol': 'cholesterol_level',\n",
        "    'gluc': 'glucose_level',\n",
        "    'cardio': 'heart_disease'\n",
        "}, inplace=True)\n",
        "\n",
        "# Converting age from days to years\n",
        "df['age'] = (df['age_days'] / 365).astype(int)\n",
        "df.drop(columns=['age_days'], inplace=True)\n",
        "\n",
        "# Function for creating (generating) synthetic row\n",
        "def generate_synthetic_row():\n",
        "    return {\n",
        "        'age': random.randint(29, 80),\n",
        "        'gender': random.choice([1, 2]),  # 1: نساء، 2: رجال\n",
        "        'height': random.randint(140, 200),\n",
        "        'weight': round(random.uniform(45, 120), 1),\n",
        "        'systolic_bp': random.randint(90, 180),\n",
        "        'diastolic_bp': random.randint(60, 120),\n",
        "        'cholesterol_level': random.randint(1, 3),\n",
        "        'glucose_level': random.randint(1, 3),\n",
        "        'smoke': random.randint(0, 1),\n",
        "        'alco': random.randint(0, 1),\n",
        "        'active': random.randint(0, 1),\n",
        "        'heart_disease': random.randint(0, 1)\n",
        "    }\n",
        "\n",
        "# Number of records to be generated\n",
        "target_size = 1_000_000\n",
        "current_size = df.shape[0]\n",
        "needed_rows = target_size - current_size\n",
        "\n",
        "synthetic_data = [generate_synthetic_row() for _ in range(needed_rows)]\n",
        "df_synth = pd.DataFrame(synthetic_data)\n",
        "\n",
        "# Integrating real data with synthetic_data\n",
        "df_big = pd.concat([df, df_synth], ignore_index=True)\n",
        "\n",
        "# Save results\n",
        "df_big.to_csv(\"bigdata_heart.csv\", index=False)\n",
        "df_big.to_parquet(\"bigdata_heart.parquet\", index=False)\n",
        "\n",
        "print(f\"A dataset with {df_big.shape[0]} records has been created.\")\n"
      ]
    },
    {
      "cell_type": "code",
      "execution_count": null,
      "metadata": {
        "colab": {
          "base_uri": "https://localhost:8080/"
        },
        "id": "5cmOxK4Wn8V1",
        "outputId": "da7fed3f-e2b6-43f6-c83f-b33cf9d817be"
      },
      "outputs": [
        {
          "name": "stdout",
          "output_type": "stream",
          "text": [
            "<class 'pandas.core.frame.DataFrame'>\n",
            "RangeIndex: 70000 entries, 0 to 69999\n",
            "Data columns (total 13 columns):\n",
            " #   Column             Non-Null Count  Dtype  \n",
            "---  ------             --------------  -----  \n",
            " 0   id                 70000 non-null  int64  \n",
            " 1   gender             70000 non-null  int64  \n",
            " 2   height             70000 non-null  int64  \n",
            " 3   weight             70000 non-null  float64\n",
            " 4   systolic_bp        70000 non-null  int64  \n",
            " 5   diastolic_bp       70000 non-null  int64  \n",
            " 6   cholesterol_level  70000 non-null  int64  \n",
            " 7   glucose_level      70000 non-null  int64  \n",
            " 8   smoke              70000 non-null  int64  \n",
            " 9   alco               70000 non-null  int64  \n",
            " 10  active             70000 non-null  int64  \n",
            " 11  heart_disease      70000 non-null  int64  \n",
            " 12  age                70000 non-null  int64  \n",
            "dtypes: float64(1), int64(12)\n",
            "memory usage: 6.9 MB\n"
          ]
        }
      ],
      "source": [
        "df.info()"
      ]
    },
    {
      "cell_type": "code",
      "execution_count": null,
      "metadata": {
        "colab": {
          "base_uri": "https://localhost:8080/"
        },
        "id": "Eidrz4r5oIlt",
        "outputId": "c127593b-89e9-4489-c363-f10937f070e4"
      },
      "outputs": [
        {
          "name": "stdout",
          "output_type": "stream",
          "text": [
            "<class 'pandas.core.frame.DataFrame'>\n",
            "RangeIndex: 1000000 entries, 0 to 999999\n",
            "Data columns (total 13 columns):\n",
            " #   Column             Non-Null Count    Dtype  \n",
            "---  ------             --------------    -----  \n",
            " 0   id                 70000 non-null    float64\n",
            " 1   gender             1000000 non-null  int64  \n",
            " 2   height             1000000 non-null  int64  \n",
            " 3   weight             1000000 non-null  float64\n",
            " 4   systolic_bp        1000000 non-null  int64  \n",
            " 5   diastolic_bp       1000000 non-null  int64  \n",
            " 6   cholesterol_level  1000000 non-null  int64  \n",
            " 7   glucose_level      1000000 non-null  int64  \n",
            " 8   smoke              1000000 non-null  int64  \n",
            " 9   alco               1000000 non-null  int64  \n",
            " 10  active             1000000 non-null  int64  \n",
            " 11  heart_disease      1000000 non-null  int64  \n",
            " 12  age                1000000 non-null  int64  \n",
            "dtypes: float64(2), int64(11)\n",
            "memory usage: 99.2 MB\n"
          ]
        }
      ],
      "source": [
        "df_big.info()"
      ]
    },
    {
      "cell_type": "code",
      "execution_count": null,
      "metadata": {
        "colab": {
          "base_uri": "https://localhost:8080/"
        },
        "id": "roAvnRKioe8P",
        "outputId": "6ab47f82-abdc-4199-a793-41a46530b4de"
      },
      "outputs": [
        {
          "name": "stdout",
          "output_type": "stream",
          "text": [
            "Requirement already satisfied: pyspark in /usr/local/lib/python3.12/dist-packages (3.5.1)\n",
            "Requirement already satisfied: py4j==0.10.9.7 in /usr/local/lib/python3.12/dist-packages (from pyspark) (0.10.9.7)\n"
          ]
        }
      ],
      "source": [
        "!pip install pyspark\n"
      ]
    },
    {
      "cell_type": "code",
      "execution_count": null,
      "metadata": {
        "colab": {
          "base_uri": "https://localhost:8080/"
        },
        "id": "VYK3TQoAp7k1",
        "outputId": "f2ebfef0-4dfe-4db2-e1fa-9c48705bb97d"
      },
      "outputs": [
        {
          "name": "stdout",
          "output_type": "stream",
          "text": [
            "+---+------+------+------+-----------+------------+-----------------+-------------+-----+----+------+-------------+---+\n",
            "| id|gender|height|weight|systolic_bp|diastolic_bp|cholesterol_level|glucose_level|smoke|alco|active|heart_disease|age|\n",
            "+---+------+------+------+-----------+------------+-----------------+-------------+-----+----+------+-------------+---+\n",
            "|0.0|     2|   168|  62.0|        110|          80|                1|            1|    0|   0|     1|            0| 50|\n",
            "|1.0|     1|   156|  85.0|        140|          90|                3|            1|    0|   0|     1|            1| 55|\n",
            "|2.0|     1|   165|  64.0|        130|          70|                3|            1|    0|   0|     0|            1| 51|\n",
            "|3.0|     2|   169|  82.0|        150|         100|                1|            1|    0|   0|     1|            1| 48|\n",
            "|4.0|     1|   156|  56.0|        100|          60|                1|            1|    0|   0|     0|            0| 47|\n",
            "+---+------+------+------+-----------+------------+-----------------+-------------+-----+----+------+-------------+---+\n",
            "only showing top 5 rows\n",
            "\n",
            "root\n",
            " |-- id: double (nullable = true)\n",
            " |-- gender: long (nullable = true)\n",
            " |-- height: long (nullable = true)\n",
            " |-- weight: double (nullable = true)\n",
            " |-- systolic_bp: long (nullable = true)\n",
            " |-- diastolic_bp: long (nullable = true)\n",
            " |-- cholesterol_level: long (nullable = true)\n",
            " |-- glucose_level: long (nullable = true)\n",
            " |-- smoke: long (nullable = true)\n",
            " |-- alco: long (nullable = true)\n",
            " |-- active: long (nullable = true)\n",
            " |-- heart_disease: long (nullable = true)\n",
            " |-- age: long (nullable = true)\n",
            "\n",
            "Number of records: 1000000\n",
            "Number of records after cleaning: 998736\n"
          ]
        }
      ],
      "source": [
        "from pyspark.sql import SparkSession\n",
        "from pyspark.sql.functions import col\n",
        "\n",
        "# Creating a Spark session\n",
        "spark = SparkSession.builder \\\n",
        "    .appName(\"Heart Disease Big Data Analysis\") \\\n",
        "    .getOrCreate()\n",
        "\n",
        "# Reading a Parquet file (faster than CSV)\n",
        "df = spark.read.parquet(\"bigdata_heart.parquet\")\n",
        "\n",
        "# Display 5 records to confirm reading\n",
        "df.show(5)\n",
        "\n",
        "# Display the column schema\n",
        "df.printSchema()\n",
        "\n",
        "# Check the number of records\n",
        "print(f\"Number of records: {df.count()}\")\n",
        "# Cleaning up illogical or outliers\n",
        "df_clean = df.filter(\n",
        "    (col(\"systolic_bp\") > 50) & (col(\"systolic_bp\") < 250) &\n",
        "    (col(\"diastolic_bp\") > 30) & (col(\"diastolic_bp\") < 200) &\n",
        "    (col(\"height\") > 100) & (col(\"height\") < 250) &\n",
        "    (col(\"weight\") > 30) & (col(\"weight\") < 250)\n",
        ")\n",
        "\n",
        "# Save the clean copy\n",
        "df_clean.write.mode(\"overwrite\").parquet(\"bigdata_heart_clean.parquet\")\n",
        "\n",
        "print(f\"Number of records after cleaning: {df_clean.count()}\")\n",
        "\n",
        "spark.stop()\n"
      ]
    },
    {
      "cell_type": "code",
      "execution_count": null,
      "metadata": {
        "colab": {
          "background_save": true
        },
        "id": "GsR_UAoGq1YD",
        "outputId": "81ee9d20-562e-4ff7-f004-e1fe7ff5450f"
      },
      "outputs": [
        {
          "name": "stdout",
          "output_type": "stream",
          "text": [
            "Logistic Regression - Accuracy: 0.5095 - Time: 35.53 sec\n",
            "Random Forest - Accuracy: 0.5164 - Time: 87.23 sec\n",
            "Gradient-Boosted Trees - Accuracy: 0.5156 - Time: 92.72 sec\n",
            "\n",
            "=== Model Comparison ===\n",
            "Logistic Regression: Accuracy=0.5095, Time=35.53 sec\n",
            "Random Forest: Accuracy=0.5164, Time=87.23 sec\n",
            "Gradient-Boosted Trees: Accuracy=0.5156, Time=92.72 sec\n"
          ]
        }
      ],
      "source": [
        "from pyspark.sql import SparkSession\n",
        "from pyspark.ml.feature import VectorAssembler, StringIndexer\n",
        "from pyspark.ml.classification import LogisticRegression, RandomForestClassifier, GBTClassifier\n",
        "from pyspark.ml.evaluation import MulticlassClassificationEvaluator\n",
        "import time\n",
        "\n",
        "# Creating a Spark session\n",
        "spark = SparkSession.builder \\\n",
        "    .appName(\"Heart Disease Prediction with Spark MLlib\") \\\n",
        "    .getOrCreate()\n",
        "\n",
        "# Reading clean data\n",
        "df = spark.read.parquet(\"bigdata_heart_clean.parquet\")\n",
        "\n",
        "# Data processing\n",
        "feature_cols = ['age', 'gender', 'height', 'weight', 'systolic_bp',\n",
        "                'diastolic_bp', 'cholesterol_level', 'glucose_level',\n",
        "                'smoke', 'alco', 'active']\n",
        "\n",
        "assembler = VectorAssembler(inputCols=feature_cols, outputCol=\"features\")\n",
        "df_ml = assembler.transform(df)\n",
        "\n",
        "#Ensure that the classification column is numeric.\n",
        "label_indexer = StringIndexer(inputCol=\"heart_disease\", outputCol=\"label\")\n",
        "df_ml = label_indexer.fit(df_ml).transform(df_ml)\n",
        "\n",
        "# Splitting data for train and test\n",
        "train_data, test_data = df_ml.randomSplit([0.8, 0.2], seed=42)\n",
        "\n",
        "# Function for train and evaluate any model\n",
        "def train_and_evaluate(model, model_name):\n",
        "    start_time = time.time()\n",
        "    model_fit = model.fit(train_data)\n",
        "    predictions = model_fit.transform(test_data)\n",
        "    elapsed_time = time.time() - start_time\n",
        "\n",
        "    evaluator = MulticlassClassificationEvaluator(labelCol=\"label\", predictionCol=\"prediction\", metricName=\"accuracy\")\n",
        "    accuracy = evaluator.evaluate(predictions)\n",
        "\n",
        "    print(f\"{model_name} - Accuracy: {accuracy:.4f} - Time: {elapsed_time:.2f} sec\")\n",
        "    return model_name, accuracy, elapsed_time\n",
        "\n",
        "# Logistic Regression Experiment\n",
        "lr = LogisticRegression(featuresCol=\"features\", labelCol=\"label\", maxIter=10)\n",
        "lr_result = train_and_evaluate(lr, \"Logistic Regression\")\n",
        "\n",
        "# Random Forest Experiment\n",
        "rf = RandomForestClassifier(featuresCol=\"features\", labelCol=\"label\", numTrees=50)\n",
        "rf_result = train_and_evaluate(rf, \"Random Forest\")\n",
        "\n",
        "# Gradient-Boosted Trees Experiment\n",
        "gbt = GBTClassifier(featuresCol=\"features\", labelCol=\"label\", maxIter=20)\n",
        "gbt_result = train_and_evaluate(gbt, \"Gradient-Boosted Trees\")\n",
        "\n",
        "# عرض مقارنة النتائج\n",
        "results = [lr_result, rf_result, gbt_result]\n",
        "print(\"\\n=== Model Comparison ===\")\n",
        "for name, acc, time_taken in results:\n",
        "    print(f\"{name}: Accuracy={acc:.4f}, Time={time_taken:.2f} sec\")\n",
        "\n",
        "spark.stop()\n"
      ]
    },
    {
      "cell_type": "code",
      "source": [
        "import matplotlib.pyplot as plt\n",
        "import pandas as pd\n",
        "\n",
        "# Extract ROC curve points\n",
        "roc = predictions.select(\"label\", \"probability\").toPandas()\n",
        "roc[\"prob_1\"] = roc[\"probability\"].apply(lambda x: float(x[1]))\n",
        "\n",
        "from sklearn.metrics import roc_curve, auc as sk_auc\n",
        "\n",
        "fpr, tpr, thresholds = roc_curve(roc[\"label\"], roc[\"prob_1\"])\n",
        "roc_auc = sk_auc(fpr, tpr)\n",
        "\n",
        "# Plot ROC curve\n",
        "plt.figure(figsize=(7,6))\n",
        "plt.plot(fpr, tpr, label=f\"ROC curve (AUC = {roc_auc:.4f})\")\n",
        "plt.plot([0, 1], [0, 1], \"k--\")\n",
        "plt.xlabel(\"False Positive Rate\")\n",
        "plt.ylabel(\"True Positive Rate\")\n",
        "plt.title(\"ROC Curve - Logistic Regression\")\n",
        "plt.legend(loc=\"lower right\")\n",
        "plt.show()\n"
      ],
      "metadata": {
        "colab": {
          "base_uri": "https://localhost:8080/",
          "height": 564
        },
        "id": "a00t5i_gtpfl",
        "outputId": "da8e0195-47e4-4a0a-e795-a978a87d6e17"
      },
      "execution_count": null,
      "outputs": [
        {
          "output_type": "display_data",
          "data": {
            "text/plain": [
              "<Figure size 700x600 with 1 Axes>"
            ],
            "image/png": "[encoded data removed]"
          },
          "metadata": {}
        }
      ]
    }
  ],
  "metadata": {
    "colab": {
      "provenance": []
    },
    "kernelspec": {
      "display_name": "Python 3",
      "name": "python3"
    },
    "language_info": {
      "name": "python"
    }
  },
  "nbformat": 4,
  "nbformat_minor": 0
}